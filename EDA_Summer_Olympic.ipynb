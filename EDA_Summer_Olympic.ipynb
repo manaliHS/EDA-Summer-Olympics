{
  "nbformat": 4,
  "nbformat_minor": 0,
  "metadata": {
    "colab": {
      "name": "EDA-Summer-Olympic.ipynb",
      "provenance": [],
      "collapsed_sections": [],
      "toc_visible": true,
      "mount_file_id": "1-m2kVO7-hJGd3MVK9-9yVIP8BMCHvzNC",
      "authorship_tag": "ABX9TyNvBBVPMwO15eEqViWJE6JI",
      "include_colab_link": true
    },
    "kernelspec": {
      "name": "python3",
      "display_name": "Python 3"
    }
  },
  "cells": [
    {
      "cell_type": "markdown",
      "metadata": {
        "id": "view-in-github",
        "colab_type": "text"
      },
      "source": [
        "<a href=\"https://colab.research.google.com/github/manaliHS/EDA-Summer-Olympics/blob/main/EDA_Summer_Olympic.ipynb\" target=\"_parent\"><img src=\"https://colab.research.google.com/assets/colab-badge.svg\" alt=\"Open In Colab\"/></a>"
      ]
    },
    {
      "cell_type": "markdown",
      "metadata": {
        "id": "uQGu0cfzU7q3"
      },
      "source": [
        "Import libraries"
      ]
    },
    {
      "cell_type": "code",
      "metadata": {
        "colab": {
          "base_uri": "https://localhost:8080/"
        },
        "id": "U5TmwBMPUrD0",
        "outputId": "f8759d11-477b-4125-b2e9-86a12f4c0122"
      },
      "source": [
        "import pandas as pd\r\n",
        "import numpy as np\r\n",
        "import matplotlib.pyplot as plt\r\n",
        "import seaborn as sns\r\n",
        "import pandas_profiling as prf\r\n",
        "from pandas_profiling import ProfileReport as rep\r\n",
        "\r\n",
        "df = pd.read_csv('https://raw.githubusercontent.com/insaid2018/Term-1/master/Data/Projects/summer%20olympics.csv')\r\n",
        "df.head()\r\n",
        "#dataframe.info()\r\n",
        "#dataframe.describe()\r\n",
        "prf.__version__\r\n",
        "profile = prf.ProfileReport(dataframe)\r\n",
        "print(profile)\r\n",
        "profile\r\n",
        "df.drop(['Athlete','Event','Gender'],1,inplace=True)\r\n",
        "df.head()\r\n",
        "dfGrp = df.groupby(['Year','Country','City','Sport','Discipline']).count().reset_index()\r\n",
        "dfGrp.columns=['Year','Country','City','Sport','Discipline','Total Medals ']\r\n",
        "\r\n",
        "lstCountry = df.to_numpy()\r\n",
        "lstCountry\r\n",
        "\r\n"
      ],
      "execution_count": 35,
      "outputs": [
        {
          "output_type": "stream",
          "text": [
            "\n"
          ],
          "name": "stdout"
        },
        {
          "output_type": "execute_result",
          "data": {
            "text/plain": [
              "array([[1896, 'Athens', 'Aquatics', 'Swimming', 'HUN', 'Gold'],\n",
              "       [1896, 'Athens', 'Aquatics', 'Swimming', 'AUT', 'Silver'],\n",
              "       [1896, 'Athens', 'Aquatics', 'Swimming', 'GRE', 'Bronze'],\n",
              "       ...,\n",
              "       [2012, 'London', 'Wrestling', 'Wrestling Freestyle', 'RUS',\n",
              "        'Silver'],\n",
              "       [2012, 'London', 'Wrestling', 'Wrestling Freestyle', 'ARM',\n",
              "        'Bronze'],\n",
              "       [2012, 'London', 'Wrestling', 'Wrestling Freestyle', 'SWE',\n",
              "        'Bronze']], dtype=object)"
            ]
          },
          "metadata": {
            "tags": []
          },
          "execution_count": 35
        }
      ]
    }
  ]
}